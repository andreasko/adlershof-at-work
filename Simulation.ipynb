{
 "metadata": {
  "name": "",
  "signature": "sha256:7052621c16356983ca34e816e228b534a2f928dbff829e968c9bc29110351094"
 },
 "nbformat": 3,
 "nbformat_minor": 0,
 "worksheets": [
  {
   "cells": [
    {
     "cell_type": "code",
     "collapsed": false,
     "input": [
      "%reset\n",
      "%load_ext autoreload\n",
      "import numpy as np\n",
      "from subprocess import Popen\n",
      "from os import makedirs,getcwd\n",
      "from os.path import exists\n",
      "import datetime\n",
      "from shutil import copy\n",
      "from glob import glob\n",
      "import pyximport\n",
      "pyximport.install()\n",
      "import simulation as sm"
     ],
     "language": "python",
     "metadata": {},
     "outputs": [
      {
       "name": "stdout",
       "output_type": "stream",
       "stream": "stdout",
       "text": [
        "Once deleted, variables cannot be recovered. Proceed (y/[n])? y\n"
       ]
      }
     ],
     "prompt_number": 1
    },
    {
     "cell_type": "heading",
     "level": 1,
     "metadata": {},
     "source": [
      "Check Parameter"
     ]
    },
    {
     "cell_type": "code",
     "collapsed": false,
     "input": [
      "%memit sm.runsimulation(N = 10000, dim = 700, p = 1., mu = 1./1000000.)"
     ],
     "language": "python",
     "metadata": {},
     "outputs": [
      {
       "output_type": "stream",
       "stream": "stdout",
       "text": [
        "peak memory: 88.36 MiB, increment: 14.77 MiB\n"
       ]
      }
     ],
     "prompt_number": 9
    },
    {
     "cell_type": "code",
     "collapsed": false,
     "input": [
      "%timeit sm.runsimulation(N = 10000, dim = 700, p = 1., mu = 1./1000000.)"
     ],
     "language": "python",
     "metadata": {},
     "outputs": [
      {
       "output_type": "stream",
       "stream": "stdout",
       "text": [
        "1 loops, best of 3: 7.9 s per loop\n"
       ]
      }
     ],
     "prompt_number": 10
    },
    {
     "cell_type": "code",
     "collapsed": false,
     "input": [
      "N = 10000\n",
      "dist     = np.zeros((N,),dtype=float)\n",
      "maxdist  = 0.\n",
      "ensemble = 100\n",
      "\n",
      "for ii in range(ensemble):\n",
      "    sim    = sm.runsimulation(N = 10000, dim = 700, p = 1., mu = 1./1000000.)\n",
      "    simmax = np.sqrt(sim.max())\n",
      "    dist = dist + sim\n",
      "    if simmax > maxdist:\n",
      "        maxdist = simmax\n",
      "\n",
      "dist *= 1./ensemble\n",
      "D = np.polyfit(range(N-1000,N), dist[-1000::], 1)"
     ],
     "language": "python",
     "metadata": {},
     "outputs": [],
     "prompt_number": 6
    },
    {
     "cell_type": "code",
     "collapsed": false,
     "input": [
      "from matplotlib import pyplot as plt\n",
      "%matplotlib inline\n",
      "\n",
      "print \"Maximum Distance\"\n",
      "print maxdist\n",
      "\n",
      "fig = plt.figure()\n",
      "ax = fig.add_subplot(111)\n",
      "ax.set_ylabel(r'$E(x^2)$')\n",
      "ax.set_xlabel('time step')\n",
      "ax.plot(range(N),dist)\n",
      "x = np.arange(N-1000,N,1)\n",
      "y = D[0]*x + D[1]\n",
      "ax.plot(x,y,'r-')"
     ],
     "language": "python",
     "metadata": {},
     "outputs": [
      {
       "output_type": "stream",
       "stream": "stdout",
       "text": [
        "Maximum Distance\n",
        "294.416371827\n"
       ]
      },
      {
       "metadata": {},
       "output_type": "display_data",
       "png": "[encoded data removed]",
       "text": [
        "<matplotlib.figure.Figure at 0x2ab74c997a90>"
       ]
      }
     ],
     "prompt_number": 16
    },
    {
     "cell_type": "heading",
     "level": 1,
     "metadata": {},
     "source": [
      "Submit Job"
     ]
    },
    {
     "cell_type": "code",
     "collapsed": false,
     "input": [
      "%autoreload 2\n",
      "\n",
      "now = datetime.datetime.now()\n",
      "\n",
      "N_ensembles    = 1000\n",
      "N_runs         = 10000\n",
      "dim            = 500\n",
      "probs          = np.arange(0.05,1.05,0.05)\n",
      "mus            = [1./100000., 1./10.]\n",
      "path           = \"/users/stud/koher/arbeit/\" + now.strftime(\"%Y_%m_%d\") + \"/\"\n",
      "\n",
      "if not exists(path):\n",
      "    makedirs(path)\n",
      "files = [getcwd()+\"/simulation.pyx\",\n",
      "         getcwd()+\"/job\",\n",
      "         getcwd()+\"/Simulation.ipynb\"]\n",
      "\n",
      "for afile in files:\n",
      "    copy(afile, path)\n",
      "\n",
      "for mu in mus:\n",
      "    for prob in  probs:\n",
      "        name = \"prob=\"+str(prob) + \"_mu=\" + str(mu)\n",
      "        Popen('qsub -o %s -v ENSEMBLES=\"%5i\",RUNS=\"%5i\",PROB=\"%1.2e\",MU=\"%1.2e\",SIZE=\"%5i\",DIR=\"%s\" -N %s job' %(path, N_ensembles, N_runs, prob, mu, dim, path, name), shell=True)"
     ],
     "language": "python",
     "metadata": {},
     "outputs": [],
     "prompt_number": 18
    },
    {
     "cell_type": "heading",
     "level": 1,
     "metadata": {},
     "source": [
      "Auswertung"
     ]
    },
    {
     "cell_type": "code",
     "collapsed": false,
     "input": [
      "%matplotlib inline\n",
      "N_ensembles    = 1000\n",
      "N_runs         = 10000\n",
      "dim            = 500\n",
      "probs          = np.arange(0.05,1.05,0.05)\n",
      "mus            = [1./100000., 1./10.]\n",
      "path           = \"/users/stud/koher/arbeit/\" + now.strftime(\"%Y_%m_%d\") + \"/\"\n",
      "\n",
      "fig = plt.figure(figsize=(12,7))\n",
      "ax = fig.add_subplot(121)\n",
      "ax.set_ylabel(r'$E(x^2)$')\n",
      "ax.set_xlabel(r'$t$')\n",
      "ax.set_title('Mean squared displacement')\n",
      "mu = mus[0]\n",
      "for prob in probs:\n",
      "    fname = path + \"p\"+str(prob) + \"_mu\" + str(mu) + '.npz'\n",
      "    results = np.load(fname)\n",
      "    dist = np.square(results['dist'])\n",
      "    ax.plot(range(N_runs),dist)\n",
      "    D = np.polyfit(range(N_runs-1000,N_runs), dist[-1000::], 1)\n",
      "    x = np.arange(N_runs-1000,N_runs,1)\n",
      "    y = D[0]*x + D[1]\n",
      "    ax.plot(x,y,'r-')\n",
      "\n",
      "D_all = np.zeros((5,20))\n",
      "ax = fig.add_subplot(122)\n",
      "ax.set_ylabel(r'Diffusivity D')\n",
      "ax.set_xlabel(r'Link probability p')\n",
      "ax.set_title('Diffusivity as a function of the link probability')\n",
      "for ii in range(len(mus)):\n",
      "    for jj in range(len(probs)):\n",
      "        fname = path + \"p\"+str(probs[jj]) + \"_mu\" + str(mus[ii]) + '.npz'\n",
      "        results = np.load(fname)\n",
      "        dist = np.square(results['dist'])\n",
      "        D_all[ii,jj] = np.polyfit(range(N_runs-1000,N_runs), dist[-1000::], 1)[0]\n",
      "    ax.plot(range(len(probs)),D_all[ii,:])"
     ],
     "language": "python",
     "metadata": {},
     "outputs": [
      {
       "metadata": {},
       "output_type": "pyout",
       "prompt_number": 7,
       "text": [
        "u'/users/stud/koher/arbeit/simulation'"
       ]
      }
     ],
     "prompt_number": 7
    }
   ],
   "metadata": {}
  }
 ]
}